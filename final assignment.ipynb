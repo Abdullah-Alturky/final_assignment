{
 "cells": [
  {
   "cell_type": "markdown",
   "id": "7e06d49a",
   "metadata": {},
   "source": [
    "# My Jupyter Notebook on IBM Watson Studio"
   ]
  },
  {
   "cell_type": "markdown",
   "id": "8d95ee38",
   "metadata": {},
   "source": [
    "**Abdullah Alturky**<br>\n",
    "I want to be a Data Analyst"
   ]
  },
  {
   "cell_type": "markdown",
   "id": "ff073680",
   "metadata": {},
   "source": [
    "_I am interested in data science because it makes the world easier ,and help me to help the decision maker to improve their work_"
   ]
  },
  {
   "cell_type": "markdown",
   "id": "b6395849",
   "metadata": {},
   "source": [
    "### The following code will print a welcome message ###"
   ]
  },
  {
   "cell_type": "code",
   "execution_count": 5,
   "id": "81a29d88",
   "metadata": {},
   "outputs": [
    {
     "name": "stdout",
     "output_type": "stream",
     "text": [
      "welcome\n"
     ]
    }
   ],
   "source": [
    "x=\"welcome\"\n",
    "print(x)"
   ]
  },
  {
   "cell_type": "markdown",
   "id": "edee7cb8",
   "metadata": {},
   "source": [
    "* A\n",
    "* B\n",
    "* C \n",
    "* D"
   ]
  },
  {
   "cell_type": "markdown",
   "id": "1efa77f8",
   "metadata": {},
   "source": [
    "[netflix](https://www.netflix.com/sa/)"
   ]
  },
  {
   "cell_type": "markdown",
   "id": "0589dbde",
   "metadata": {},
   "source": [
    "~~hey~~"
   ]
  }
 ],
 "metadata": {
  "kernelspec": {
   "display_name": "Python 3 (ipykernel)",
   "language": "python",
   "name": "python3"
  },
  "language_info": {
   "codemirror_mode": {
    "name": "ipython",
    "version": 3
   },
   "file_extension": ".py",
   "mimetype": "text/x-python",
   "name": "python",
   "nbconvert_exporter": "python",
   "pygments_lexer": "ipython3",
   "version": "3.9.13"
  }
 },
 "nbformat": 4,
 "nbformat_minor": 5
}
